{
  "nbformat": 4,
  "nbformat_minor": 0,
  "metadata": {
    "kernelspec": {
      "display_name": "Python 3",
      "language": "python",
      "name": "python3"
    },
    "language_info": {
      "codemirror_mode": {
        "name": "ipython",
        "version": 3
      },
      "file_extension": ".py",
      "mimetype": "text/x-python",
      "name": "python",
      "nbconvert_exporter": "python",
      "pygments_lexer": "ipython3",
      "version": "3.6.2"
    },
    "colab": {
      "name": "Copy of 5_TicTacToe.ipynb",
      "provenance": [],
      "include_colab_link": true
    }
  },
  "cells": [
    {
      "cell_type": "markdown",
      "metadata": {
        "id": "view-in-github",
        "colab_type": "text"
      },
      "source": [
        "<a href=\"https://colab.research.google.com/github/Esraa999/TicTacToeGAME/blob/main/Copy_of_5_TicTacToe.ipynb\" target=\"_parent\"><img src=\"https://colab.research.google.com/assets/colab-badge.svg\" alt=\"Open In Colab\"/></a>"
      ]
    },
    {
      "cell_type": "markdown",
      "metadata": {
        "id": "aAjb_hDyTKQh"
      },
      "source": [
        "# Tic Tac Toe Game \n",
        "##### Scratch Building\n",
        "##### No GUI Required "
      ]
    },
    {
      "cell_type": "markdown",
      "metadata": {
        "id": "NG1KZg4sTKQj"
      },
      "source": [
        "#### Some suggested tools before you get started:\n",
        "To take input from a user:\n",
        "\n",
        "    player1 = input(\"Please pick a marker 'X' or 'O'\")\n",
        "    \n",
        "Note that input() takes in a string. If you need an integer value, use\n",
        "\n",
        "    position = int(input('Please enter a number'))\n",
        "    \n",
        "<br>To clear the screen between moves:\n",
        "\n",
        "    from IPython.display import clear_output\n",
        "    clear_output()\n",
        "    \n",
        "Note that clear_output() will only work in jupyter. To clear the screen in other IDEs, consider:\n",
        "\n",
        "    print('\\n'*100)\n",
        "    \n",
        "This scrolls the previous board up out of view. Now on to the program!"
      ]
    },
    {
      "cell_type": "markdown",
      "metadata": {
        "id": "eq31aKoKTKQk"
      },
      "source": [
        "**Step 1: Write a function that can print out a board. Set up your board as a list, where each index 1-9 corresponds with a number on a number pad, so you get a 3 by 3 board representation.**"
      ]
    },
    {
      "cell_type": "code",
      "metadata": {
        "id": "v6oZEXZXTKQl"
      },
      "source": [
        "from IPython.display import clear_output\n",
        "board = [1,2,3,\n",
        "\n",
        "         4,5,6,\n",
        "\n",
        "         7,8,9]\n",
        "\n",
        "def display_board(board):\n",
        "    \n",
        "    print (board[8] + ' | ' + board[7] + ' | ' + board[6])\n",
        "\n",
        "    print (board[5] + ' | ' + board[4] + ' | ' + board[3])\n",
        "\n",
        "    print (board[2] + ' | ' + board[1] + ' | ' + board[0])\n"
      ],
      "execution_count": null,
      "outputs": []
    },
    {
      "cell_type": "markdown",
      "metadata": {
        "id": "YE-nz_ETTKQo"
      },
      "source": [
        "**TEST Step 1:** run your function on a test version of the board list, and make adjustments as necessary"
      ]
    },
    {
      "cell_type": "code",
      "metadata": {
        "id": "4iQ9D-u5TKQp",
        "colab": {
          "base_uri": "https://localhost:8080/"
        },
        "outputId": "51a12c62-83ee-4851-d939-b92f5e867c53"
      },
      "source": [
        "test_board = ['X','O','X','O','X','O','X','O','X']\n",
        "display_board(test_board)"
      ],
      "execution_count": null,
      "outputs": [
        {
          "output_type": "stream",
          "text": [
            "X | O | X\n",
            "O | X | O\n",
            "X | O | X\n"
          ],
          "name": "stdout"
        }
      ]
    },
    {
      "cell_type": "markdown",
      "metadata": {
        "id": "WxeUw0FhTKQr"
      },
      "source": [
        "**Step 2: Write a function that can take in a player input and assign their marker as 'X' or 'O'. Think about using *while* loops to continually ask until you get a correct answer.**"
      ]
    },
    {
      "cell_type": "code",
      "metadata": {
        "id": "MG0XC4aXTKQs"
      },
      "source": [
        "def player_input():\n",
        "    \n",
        "    marker = ''\n",
        "\n",
        "    while marker != 'X' and marker != 'O':\n",
        "        marker = input('\\n Player 1: Do you want to be X or O ? ').upper()\n",
        "\n",
        "    if marker == 'X':\n",
        "        return('X','O')\n",
        "    else:\n",
        "        return('O','X')"
      ],
      "execution_count": null,
      "outputs": []
    },
    {
      "cell_type": "markdown",
      "metadata": {
        "id": "6fVimbgzTKQu"
      },
      "source": [
        "**TEST Step 2:** run the function to make sure it returns the desired output"
      ]
    },
    {
      "cell_type": "code",
      "metadata": {
        "id": "PJSO5QX1TKQu",
        "colab": {
          "base_uri": "https://localhost:8080/"
        },
        "outputId": "2b8c4523-0984-4ad5-8463-332ae9f43a22"
      },
      "source": [
        "player_input()"
      ],
      "execution_count": null,
      "outputs": [
        {
          "output_type": "stream",
          "text": [
            "\n",
            " Player 1: Do you want to be X or O ? x\n"
          ],
          "name": "stdout"
        },
        {
          "output_type": "execute_result",
          "data": {
            "text/plain": [
              "('X', 'O')"
            ]
          },
          "metadata": {
            "tags": []
          },
          "execution_count": 27
        }
      ]
    },
    {
      "cell_type": "markdown",
      "metadata": {
        "id": "aQN1q9gGTKQw"
      },
      "source": [
        "**Step 3: Write a function that takes in the board list object, a marker ('X' or 'O'), and a desired position (number 1-9) and assigns it to the board.**"
      ]
    },
    {
      "cell_type": "code",
      "metadata": {
        "id": "drK45WDaTKQx"
      },
      "source": [
        "def place_marker(board, marker, position):\n",
        "    \n",
        "     board[position] = marker"
      ],
      "execution_count": null,
      "outputs": []
    },
    {
      "cell_type": "markdown",
      "metadata": {
        "id": "gapk660ATKQz"
      },
      "source": [
        "**TEST Step 3:** run the place marker function using test parameters and display the modified board"
      ]
    },
    {
      "cell_type": "code",
      "metadata": {
        "id": "4vIDyBjrTKQ0",
        "colab": {
          "base_uri": "https://localhost:8080/"
        },
        "outputId": "9dfe6951-c9ab-4b6c-8587-eb2a614d68ce"
      },
      "source": [
        "place_marker(test_board,'O',0)\n",
        "display_board(test_board)"
      ],
      "execution_count": 71,
      "outputs": [
        {
          "output_type": "stream",
          "text": [
            "O | O | X\n",
            "O | O | O\n",
            "X | O | O\n"
          ],
          "name": "stdout"
        }
      ]
    },
    {
      "cell_type": "markdown",
      "metadata": {
        "id": "vRuvrYsVTKQ2"
      },
      "source": [
        "**Step 4: Write a function that takes in a board and a mark (X or O) and then checks to see if that mark has won. **"
      ]
    },
    {
      "cell_type": "code",
      "metadata": {
        "id": "Zl_L_t1xTKQ2"
      },
      "source": [
        "def win_check(board, mark):\n",
        "    if (board[6] == mark and board[7] == mark and board[8] == mark) or (board[5] == mark and board[4] == mark and board[3] == mark) or (board[2] == mark and board[1] == mark and board[0] == mark) or (board[8] == mark and board[5] == mark and board[2] == mark) or (board[7] == mark and board[4] == mark and board[1] == mark) or (board[6] == mark and board[3] == mark and board[0] == mark) or (board[6] == mark and board[4] == mark and board[2] == mark) or (board[8] == mark and board[4] == mark and board[0] == mark):\n",
        "      return True\n",
        "    else:\n",
        "      return False"
      ],
      "execution_count": null,
      "outputs": []
    },
    {
      "cell_type": "markdown",
      "metadata": {
        "id": "D9tY6vCHTKQ4"
      },
      "source": [
        "**TEST Step 4:** run the win_check function against our test_board - it should return True"
      ]
    },
    {
      "cell_type": "code",
      "metadata": {
        "id": "W_rBIIOCTKQ5",
        "colab": {
          "base_uri": "https://localhost:8080/"
        },
        "outputId": "601bff53-98c7-4f62-810e-d12acc09b3cb"
      },
      "source": [
        "\n",
        "win_check(test_board,'X')"
      ],
      "execution_count": null,
      "outputs": [
        {
          "output_type": "execute_result",
          "data": {
            "text/plain": [
              "False"
            ]
          },
          "metadata": {
            "tags": []
          },
          "execution_count": 51
        }
      ]
    },
    {
      "cell_type": "markdown",
      "metadata": {
        "id": "ROj56ItpTKQ7"
      },
      "source": [
        "**Step 5: Write a function that uses the random module to randomly decide which player goes first. You may want to lookup random.randint() Return a string of which player went first.**"
      ]
    },
    {
      "cell_type": "code",
      "metadata": {
        "id": "NMgrAjU3TKQ7"
      },
      "source": [
        "import random\n",
        "\n",
        "def choose_first():\n",
        "     if random.randint(0, 1) == 0:\n",
        "        return 'Player 2'\n",
        "     else:\n",
        "        return 'Player 1'"
      ],
      "execution_count": null,
      "outputs": []
    },
    {
      "cell_type": "markdown",
      "metadata": {
        "id": "7H1uXKU-TKQ9"
      },
      "source": [
        "**Step 6: Write a function that returns a boolean indicating whether a space on the board is freely available.**"
      ]
    },
    {
      "cell_type": "code",
      "metadata": {
        "id": "i0rtv4b3TKQ-"
      },
      "source": [
        "def space_check(board, position):\n",
        "    \n",
        "    \n",
        "    return board[position] == ' '"
      ],
      "execution_count": null,
      "outputs": []
    },
    {
      "cell_type": "markdown",
      "metadata": {
        "id": "TKfVJE_KTKRA"
      },
      "source": [
        "**Step 7: Write a function that checks if the board is full and returns a boolean value. True if full, False otherwise.**"
      ]
    },
    {
      "cell_type": "code",
      "metadata": {
        "id": "Vsa0TroYTKRB"
      },
      "source": [
        "def full_board_check(board):\n",
        "    \n",
        "    for i in range(0,8):\n",
        "        if space_check(board, i):\n",
        "            return False\n",
        "    return True"
      ],
      "execution_count": 72,
      "outputs": []
    },
    {
      "cell_type": "markdown",
      "metadata": {
        "id": "ju-R3rRATKRD"
      },
      "source": [
        "**Step 8: Write a function that asks for a player's next position (as a number 1-9) and then uses the function from step 6 to check if it's a free position. If it is, then return the position for later use.**"
      ]
    },
    {
      "cell_type": "code",
      "metadata": {
        "id": "zLusZVZETKRE"
      },
      "source": [
        "def player_choice(board):\n",
        "    \n",
        "      # Using strings because of raw_input\n",
        "    position = ' '\n",
        "    while position not in '0 1 2 3 4 5 6 7 8'.split() or not space_check(board, int(position)):\n",
        "        \n",
        "        position = input('Choose your next position: (0-8) so that 0 is the lower right cell and 8 is the upper left cell ')\n",
        "    return int(position)"
      ],
      "execution_count": 77,
      "outputs": []
    },
    {
      "cell_type": "markdown",
      "metadata": {
        "id": "E9ryWxTdTKRG"
      },
      "source": [
        "**Step 9: Write a function that asks the player if they want to play again and returns a boolean True if they do want to play again.**"
      ]
    },
    {
      "cell_type": "code",
      "metadata": {
        "id": "1_Nt3ngsTKRG"
      },
      "source": [
        "def replay():\n",
        "    \n",
        "     return input('Do you want to play again? Enter Yes or No: ').lower().startswith('y')"
      ],
      "execution_count": null,
      "outputs": []
    },
    {
      "cell_type": "markdown",
      "metadata": {
        "collapsed": true,
        "id": "gjLdHz0MTKRI"
      },
      "source": [
        "**Step 10: Here comes the hard part! Use while loops and the functions you've made to run the game!**"
      ]
    },
    {
      "cell_type": "code",
      "metadata": {
        "id": "84vKO9k9TKRJ",
        "colab": {
          "base_uri": "https://localhost:8080/"
        },
        "outputId": "9cab366c-96c3-4398-d377-9ed9f1e724b2"
      },
      "source": [
        "print('Welcome to Tic Tac Toe!')\n",
        "while True:\n",
        "    # Reset the board\n",
        "    theBoard = [' '] * 10\n",
        "    player1_marker, player2_marker = player_input()\n",
        "    turn = choose_first()\n",
        "    print(turn + ' will go first.')\n",
        "    game_on = True\n",
        "\n",
        "    while game_on:\n",
        "        if turn == 'Player 1':\n",
        "            # Player1's turn.\n",
        "            \n",
        "            display_board(theBoard)\n",
        "            position = player_choice(theBoard)\n",
        "            place_marker(theBoard, player1_marker, position)\n",
        "\n",
        "            if win_check(theBoard, player1_marker):\n",
        "                display_board(theBoard)\n",
        "                print('Congratulations! Player 1 won the game!')\n",
        "                game_on = False\n",
        "            else:\n",
        "                if full_board_check(theBoard):\n",
        "                    display_board(theBoard)\n",
        "                    print('The game is a draw!')\n",
        "                    break\n",
        "                else:\n",
        "                    turn = 'Player 2'\n",
        "\n",
        "        else:\n",
        "            # Player2's turn.\n",
        "            \n",
        "            display_board(theBoard)\n",
        "            position = player_choice(theBoard)\n",
        "            place_marker(theBoard, player2_marker, position)\n",
        "\n",
        "            if win_check(theBoard, player2_marker):\n",
        "                display_board(theBoard)\n",
        "                print('Congratulations! Player 2 won the game!')\n",
        "                game_on = False\n",
        "            else:\n",
        "                if full_board_check(theBoard):\n",
        "                    display_board(theBoard)\n",
        "                    print('The game is a tie!')\n",
        "                    break\n",
        "                else:\n",
        "                    turn = 'Player 1'\n",
        "\n",
        "    if not replay():\n",
        "        break"
      ],
      "execution_count": 78,
      "outputs": [
        {
          "output_type": "stream",
          "text": [
            "Welcome to Tic Tac Toe!\n",
            "\n",
            " Player 1: Do you want to be X or O ? o\n",
            "Player 1 will go first.\n",
            "  |   |  \n",
            "  |   |  \n",
            "  |   |  \n",
            "Choose your next position: (0-8) so that 0 is the lower right cell and 8 is the upper left cell 0\n",
            "  |   |  \n",
            "  |   |  \n",
            "  |   | O\n",
            "Choose your next position: (0-8) so that 0 is the lower right cell and 8 is the upper left cell 1\n",
            "  |   |  \n",
            "  |   |  \n",
            "  | X | O\n",
            "Choose your next position: (0-8) so that 0 is the lower right cell and 8 is the upper left cell 2\n",
            "  |   |  \n",
            "  |   |  \n",
            "O | X | O\n",
            "Choose your next position: (0-8) so that 0 is the lower right cell and 8 is the upper left cell 3\n",
            "  |   |  \n",
            "  |   | X\n",
            "O | X | O\n",
            "Choose your next position: (0-8) so that 0 is the lower right cell and 8 is the upper left cell 4\n",
            "  |   |  \n",
            "  | O | X\n",
            "O | X | O\n",
            "Choose your next position: (0-8) so that 0 is the lower right cell and 8 is the upper left cell 5\n",
            "  |   |  \n",
            "X | O | X\n",
            "O | X | O\n",
            "Choose your next position: (0-8) so that 0 is the lower right cell and 8 is the upper left cell 6\n",
            "  |   | O\n",
            "X | O | X\n",
            "O | X | O\n",
            "Congratulations! Player 1 won the game!\n",
            "Do you want to play again? Enter Yes or No: 7\n"
          ],
          "name": "stdout"
        }
      ]
    },
    {
      "cell_type": "markdown",
      "metadata": {
        "collapsed": true,
        "id": "V3AlA00FTKRL"
      },
      "source": [
        "## Good Job!"
      ]
    }
  ]
}